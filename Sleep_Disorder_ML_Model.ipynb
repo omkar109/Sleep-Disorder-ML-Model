{
  "nbformat": 4,
  "nbformat_minor": 0,
  "metadata": {
    "colab": {
      "provenance": [],
      "authorship_tag": "ABX9TyMFGZ5ohhA9Xl03IBd6KjWD",
      "include_colab_link": true
    },
    "kernelspec": {
      "name": "python3",
      "display_name": "Python 3"
    },
    "language_info": {
      "name": "python"
    }
  },
  "cells": [
    {
      "cell_type": "markdown",
      "metadata": {
        "id": "view-in-github",
        "colab_type": "text"
      },
      "source": [
        "<a href=\"https://colab.research.google.com/github/omkar109/Sleep-Disorder-ML-Model/blob/main/Sleep_Disorder_ML_Model.ipynb\" target=\"_parent\"><img src=\"https://colab.research.google.com/assets/colab-badge.svg\" alt=\"Open In Colab\"/></a>"
      ]
    },
    {
      "cell_type": "code",
      "execution_count": null,
      "metadata": {
        "id": "LSQTKez7RL5a"
      },
      "outputs": [],
      "source": [
        "import pandas as pd\n",
        "import tensorflow as tf\n",
        "\n",
        "learning_rate = 0.01\n",
        "batch_size = 10\n",
        "epochs = 100\n",
        "\n",
        "#The goal of this model is to try to predict if the user has a sleep disorder\n",
        "#(Can be None or Sleep Disorder(Either insomnia or sleep apnea)) from the given features such as\n",
        "#age, quality of sleep, etc\n",
        "\n",
        "dataset = pd.read_csv(\"Sleep.csv\")\n",
        "dataset.head()\n",
        "features_list = list(dataset.columns.values)\n",
        "features_list.remove(\"Person ID\") #Is a useless feature\n",
        "features_list.remove(\"Sleep Disorder\") #Is the label\n",
        "\n",
        "#Creates a new column to be the label. Is false if Sleep Disorder is none, true otherwise\n",
        "dataset[\"Has Sleep Disorder\"] = (dataset[\"Sleep Disorder\"] != \"None\")\n",
        "\n",
        "dataset.head(100)\n",
        "\n",
        "#To do: Figure out what I need to do to one hot encode certain features. Also figure\n",
        "#out how to train on multiple features"
      ]
    }
  ]
}